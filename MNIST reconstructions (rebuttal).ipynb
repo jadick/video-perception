{
 "cells": [
  {
   "cell_type": "code",
   "execution_count": 1,
   "metadata": {},
   "outputs": [
    {
     "name": "stdout",
     "output_type": "stream",
     "text": [
      "Mon Aug  5 18:37:04 2024       \r\n",
      "+-----------------------------------------------------------------------------+\r\n",
      "| NVIDIA-SMI 525.105.17   Driver Version: 525.105.17   CUDA Version: 12.0     |\r\n",
      "|-------------------------------+----------------------+----------------------+\r\n",
      "| GPU  Name        Persistence-M| Bus-Id        Disp.A | Volatile Uncorr. ECC |\r\n",
      "| Fan  Temp  Perf  Pwr:Usage/Cap|         Memory-Usage | GPU-Util  Compute M. |\r\n",
      "|                               |                      |               MIG M. |\r\n",
      "|===============================+======================+======================|\r\n",
      "|   0  NVIDIA A40          On   | 00000000:86:00.0 Off |                    0 |\r\n",
      "|  0%   26C    P8    28W / 300W |      2MiB / 46068MiB |      0%      Default |\r\n",
      "|                               |                      |                  N/A |\r\n",
      "+-------------------------------+----------------------+----------------------+\r\n",
      "                                                                               \r\n",
      "+-----------------------------------------------------------------------------+\r\n",
      "| Processes:                                                                  |\r\n",
      "|  GPU   GI   CI        PID   Type   Process name                  GPU Memory |\r\n",
      "|        ID   ID                                                   Usage      |\r\n",
      "|=============================================================================|\r\n",
      "|  No running processes found                                                 |\r\n",
      "+-----------------------------------------------------------------------------+\r\n"
     ]
    }
   ],
   "source": [
    "import os\n",
    "import numpy as np\n",
    "import time\n",
    "\n",
    "import torch\n",
    "import torch.nn as nn\n",
    "import torch.nn.functional as F\n",
    "from torch.utils.data import DataLoader\n",
    "import torchvision\n",
    "\n",
    "import torch.nn.utils.spectral_norm as spectralnorm\n",
    "import torchvision\n",
    "import matplotlib.pyplot as plt\n",
    "from PIL import Image\n",
    "from models import *\n",
    "from utils import *\n",
    "from helper import *\n",
    "import seaborn as sns\n",
    "\n",
    "device = torch.device('cuda' if torch.cuda.is_available else cpu)\n",
    "from vimeo90k import Vimeo90kDataset, VideoFolder_diffusion\n",
    "!nvidia-smi\n",
    "\n",
    "def load_ssf_model(model, pre_path):\n",
    "    model.motion_encoder.load_state_dict(torch.load(pre_path+'/m_enc.pth'))\n",
    "    model.motion_decoder.load_state_dict(torch.load(pre_path+'/m_dec.pth'))\n",
    "    model.P_encoder.load_state_dict(torch.load(pre_path+'/p_enc.pth'))\n",
    "    model.res_encoder.load_state_dict(torch.load(pre_path+'/r_enc.pth'))\n",
    "    model.res_decoder.load_state_dict(torch.load(pre_path+'/r_dec.pth'))\n",
    "    return model"
   ]
  },
  {
   "cell_type": "code",
   "execution_count": 16,
   "metadata": {},
   "outputs": [],
   "source": [
    "l_JD1 = 0.2\n",
    "l_FMD1=0.02\n",
    "l_JD2=0.2\n",
    "l_NEW2=0.2\n",
    "l_FMD2=0.02\n",
    "eps1 = 2\n",
    "eps2 =16\n",
    "step = 20\n",
    "zdim_1 = eps1//2\n",
    "zdim_2 = eps2//2\n",
    "\n",
    "dataset = 'mmnist_4_axis_random_sample_step'\n",
    "\n",
    "pre_path_JD1 = f'./saved_models/inf-eps/step_{step}/inf-{eps1}|lambdaJD_{l_JD1}|lambdaFMD_0.0|lambdaNEW_0.0|lambdaMSE_1.0|dataset_{dataset}'\n",
    "pre_path_FMD1 = f'./saved_models/inf-eps/step_{step}/inf-{eps1}|lambdaJD_0.0|lambdaFMD_{l_FMD1}|lambdaNEW_0.0|lambdaMSE_1.0|dataset_{dataset}'\n",
    "pre_path_JD2 = f'./saved_models/inf-eps1-eps2/step_{step}/inf-{eps1}-{eps2}|lambdaJD_{l_JD2}|lambdaFMD_0.0|lambdaNEW_0.0|lambdaMSE_1.0|dataset_{dataset}'\n",
    "pre_path_NEW2 = f'./saved_models/inf-eps1-eps2/step_{step}/inf-{eps1}-{eps2}|lambdaJD_0.0|lambdaFMD_0.0|lambdaNEW_{l_NEW2}|lambdaMSE_1.0|dataset_{dataset}'\n",
    "pre_path_FMD2 = f'./saved_models/inf-eps1-eps2/step_{step}/inf-{eps1}-{eps2}|lambdaJD_0.0|lambdaFMD_{l_FMD2}|lambdaNEW_0.0|lambdaMSE_1.0|dataset_{dataset}'\n",
    "\n",
    "save_path = '/scratch/ssd004/scratch/joaodick/rebuttal_data/MMNIST/'\n",
    "sequence_number = 1000"
   ]
  },
  {
   "cell_type": "code",
   "execution_count": 4,
   "metadata": {},
   "outputs": [
    {
     "name": "stdout",
     "output_type": "stream",
     "text": [
      "Finished Loading MovingMNIST_4_axis_random_sample_step!\n"
     ]
    }
   ],
   "source": [
    "loader, _ = get_dataloader(data_root='./data/', dataset = dataset, step = step, seq_len=3, batch_size=1, num_digits=1)"
   ]
  },
  {
   "cell_type": "code",
   "execution_count": 17,
   "metadata": {},
   "outputs": [
    {
     "name": "stdout",
     "output_type": "stream",
     "text": [
      "[-1.0, 1.0]\n",
      "[-1.0, 1.0]\n",
      "[-1.0, 1.0]\n",
      "[-1.0, 1.0]\n",
      "[-1.0, 1.0]\n"
     ]
    }
   ],
   "source": [
    "#load models for second frame\n",
    "ssf_JD1 = ScaleSpaceFlow(num_levels=1, dim=zdim_1, stochastic=False, quantize_latents=True, L=2).to(device).eval()\n",
    "ssf_JD1 = load_ssf_model(ssf_JD1, pre_path_JD1)\n",
    "ssf_FMD1 = ScaleSpaceFlow(num_levels=1, dim=zdim_1, stochastic=True, quantize_latents=True, L=2).to(device).eval()\n",
    "ssf_FMD1 = load_ssf_model(ssf_FMD1, pre_path_FMD1)\n",
    "\n",
    "#load models for third frame \n",
    "ssf_JD2 = ScaleSpaceFlow_R1eps_e2e_3frames(num_levels=1, dim=zdim_2, stochastic=True,\\\n",
    "                                           quantize_latents=True, L=2, single_bit=False,num_c=1,\\\n",
    "                                           activation=torch.sigmoid).to(device)\n",
    "ssf_NEW2 = ScaleSpaceFlow_R1eps_e2e_3frames(num_levels=1, dim=zdim_2, stochastic=True,\\\n",
    "                                           quantize_latents=True, L=2, single_bit=False,num_c=1,\\\n",
    "                                           activation=torch.sigmoid).to(device)\n",
    "ssf_FMD2 = ScaleSpaceFlow_R1eps_e2e_3frames(num_levels=1, dim=zdim_2, stochastic=True,\\\n",
    "                                            quantize_latents=True, L=2, single_bit=False,num_c=1,\\\n",
    "                                            activation=torch.sigmoid).to(device)\n",
    "ssf_JD2 = load_ssf_model(ssf_JD2, pre_path_JD2)\n",
    "ssf_NEW2 = load_ssf_model(ssf_NEW2, pre_path_NEW2)\n",
    "ssf_FMD2 = load_ssf_model(ssf_FMD2, pre_path_FMD2)"
   ]
  },
  {
   "cell_type": "code",
   "execution_count": 6,
   "metadata": {},
   "outputs": [
    {
     "name": "stdout",
     "output_type": "stream",
     "text": [
      "torch.Size([1, 1, 64, 64])\n"
     ]
    }
   ],
   "source": [
    "for i in range(sequence_number):\n",
    "    data = next(iter(loader)).permute(0, 4, 1, 2, 3).to(device).float()\n",
    "    #reconstruct frames\n",
    "    x_0 = data[:,:,0,...]\n",
    "    x_1 = data[:,:,1,...]\n",
    "    x_2 = data[:,:,2,...]\n",
    "    x1_hat_JD = ssf_JD1(x_1, x_0)\n",
    "    x1_hat_NEW = ssf_JD1(x_1, x_0)\n",
    "    x1_hat_FMD = ssf_FMD1(x_1,x_0)\n",
    "    x2_hat_JD = ssf_JD2(x_2, x1_hat_JD, x_0, x1_hat_JD)\n",
    "    x2_hat_NEW = ssf_NEW2(x_2, x1_hat_NEW, x_0, x1_hat_NEW)\n",
    "    x2_hat_FMD = ssf_FMD2(x_2, x1_hat_FMD, x_0, x1_hat_FMD)\n",
    "    print(x_0.shape)\n",
    "    break\n",
    "    '''\n",
    "    os.makedirs(save_path + f'original/{i}/', exist_ok=True)\n",
    "    os.makedirs(save_path + f'JD/{i}/', exist_ok=True)\n",
    "    os.makedirs(save_path + f'AR/{i}/', exist_ok=True)\n",
    "    os.makedirs(save_path + f'FMD/{i}/', exist_ok=True)\n",
    "    #OR\n",
    "    np.save(save_path + f'original/{i}/x1.npy', x_0[0,0,...].cpu().data.numpy())\n",
    "    np.save(save_path + f'original/{i}/x2.npy', x_1[0,0,...].cpu().data.numpy())\n",
    "    np.save(save_path + f'original/{i}/x3.npy', x_2[0,0,...].cpu().data.numpy())\n",
    "    #JD\n",
    "    np.save(save_path + f'JD/{i}/x1.npy', x_0[0,0,...].cpu().data.numpy())\n",
    "    np.save(save_path + f'JD/{i}/x2.npy', x1_hat_JD[0,0,...].cpu().data.numpy())\n",
    "    np.save(save_path + f'JD/{i}/x3.npy', x2_hat_JD[0,0,...].cpu().data.numpy())\n",
    "    #AR\n",
    "    np.save(save_path + f'AR/{i}/x1.npy', x_0[0,0,...].cpu().data.numpy())\n",
    "    np.save(save_path + f'AR/{i}/x2.npy', x1_hat_NEW[0,0,...].cpu().data.numpy())\n",
    "    np.save(save_path + f'AR/{i}/x3.npy', x2_hat_NEW[0,0,...].cpu().data.numpy())\n",
    "    #FMD\n",
    "    np.save(save_path + f'FMD/{i}/x1.npy', x_0[0,0,...].cpu().data.numpy())\n",
    "    np.save(save_path + f'FMD/{i}/x2.npy', x1_hat_FMD[0,0,...].cpu().data.numpy())\n",
    "    np.save(save_path + f'FMD/{i}/x3.npy', x2_hat_FMD[0,0,...].cpu().data.numpy())\n",
    "\n",
    "    if(i%100 == 0):\n",
    "        print(i)\n",
    "    '''\n",
    "    \n",
    "    "
   ]
  },
  {
   "cell_type": "code",
   "execution_count": 25,
   "metadata": {},
   "outputs": [
    {
     "data": {
      "image/png": "[encoded data removed]",
      "text/plain": [
       "<Figure size 432x288 with 1 Axes>"
      ]
     },
     "metadata": {
      "needs_background": "light"
     },
     "output_type": "display_data"
    }
   ],
   "source": [
    "for i in range(sequence_number):\n",
    "    x_0 = np.load(save_path + f'original/{i}/x1.npy')\n",
    "    x_0 = torch.from_numpy(x_0[np.newaxis,np.newaxis,...])\n",
    "    x_0 = x_0.to(device).float()\n",
    "    \n",
    "    x_1 = np.load(save_path + f'original/{i}/x2.npy')\n",
    "    x_1 = torch.from_numpy(x_1[np.newaxis,np.newaxis,...])\n",
    "    x_1 = x_1.to(device).float()\n",
    "\n",
    "        \n",
    "    x_2 = np.load(save_path + f'original/{i}/x3.npy')\n",
    "    x_2 = torch.from_numpy(x_2[np.newaxis,np.newaxis,...])\n",
    "    x_2 = x_2.to(device).float()\n",
    "\n",
    "    x1_hat_FMD = ssf_FMD1(x_1,x_0)\n",
    "    x2_hat_FMD = ssf_FMD2(x_2, x1_hat_FMD, x_0, x1_hat_FMD)\n",
    "    \n",
    "    os.makedirs(save_path + f'FMD_fine_tuning/{i}/', exist_ok=True)\n",
    "    \n",
    "    np.save(save_path + f'FMD_fine_tuning/{i}/x1.npy', x_0[0,0,...].cpu().data.numpy())\n",
    "    np.save(save_path + f'FMD_fine_tuning/{i}/x2.npy', x1_hat_FMD[0,0,...].cpu().data.numpy())\n",
    "    np.save(save_path + f'FMD_fine_tuning/{i}/x3.npy', x2_hat_FMD[0,0,...].cpu().data.numpy())\n",
    "       if(i%100 == 0):\n",
    "        print(i)"
   ]
  },
  {
   "cell_type": "code",
   "execution_count": 11,
   "metadata": {},
   "outputs": [
    {
     "name": "stdout",
     "output_type": "stream",
     "text": [
      "(1, 1, 64, 64)\n"
     ]
    }
   ],
   "source": [
    "print(x_0[np.newaxis,np.newaxis,...].shape)"
   ]
  },
  {
   "cell_type": "code",
   "execution_count": 22,
   "metadata": {},
   "outputs": [
    {
     "data": {
      "text/plain": [
       "<matplotlib.image.AxesImage at 0x7fcf25be8fd0>"
      ]
     },
     "execution_count": 22,
     "metadata": {},
     "output_type": "execute_result"
    },
    {
     "data": {
      "image/png": "[encoded data removed]",
      "text/plain": [
       "<Figure size 432x288 with 1 Axes>"
      ]
     },
     "metadata": {
      "needs_background": "light"
     },
     "output_type": "display_data"
    }
   ],
   "source": [
    "plt.imshow(x_0[0,0,...].cpu().data.numpy())"
   ]
  },
  {
   "cell_type": "code",
   "execution_count": 23,
   "metadata": {},
   "outputs": [
    {
     "data": {
      "text/plain": [
       "<matplotlib.image.AxesImage at 0x7fcf25b4dba8>"
      ]
     },
     "execution_count": 23,
     "metadata": {},
     "output_type": "execute_result"
    },
    {
     "data": {
      "image/png": "[encoded data removed]",
      "text/plain": [
       "<Figure size 432x288 with 1 Axes>"
      ]
     },
     "metadata": {
      "needs_background": "light"
     },
     "output_type": "display_data"
    }
   ],
   "source": [
    "plt.imshow(x1_hat_FMD[0,0,...].cpu().data.numpy())"
   ]
  },
  {
   "cell_type": "code",
   "execution_count": 24,
   "metadata": {},
   "outputs": [
    {
     "data": {
      "text/plain": [
       "<matplotlib.image.AxesImage at 0x7fcf25b33780>"
      ]
     },
     "execution_count": 24,
     "metadata": {},
     "output_type": "execute_result"
    },
    {
     "data": {
      "image/png": "[encoded data removed]",
      "text/plain": [
       "<Figure size 432x288 with 1 Axes>"
      ]
     },
     "metadata": {
      "needs_background": "light"
     },
     "output_type": "display_data"
    }
   ],
   "source": [
    "plt.imshow(x2_hat_FMD[0,0,...].cpu().data.numpy())"
   ]
  },
  {
   "cell_type": "code",
   "execution_count": null,
   "metadata": {},
   "outputs": [],
   "source": []
  }
 ],
 "metadata": {
  "kernelspec": {
   "display_name": "Python 3",
   "language": "python",
   "name": "python3"
  },
  "language_info": {
   "codemirror_mode": {
    "name": "ipython",
    "version": 3
   },
   "file_extension": ".py",
   "mimetype": "text/x-python",
   "name": "python",
   "nbconvert_exporter": "python",
   "pygments_lexer": "ipython3",
   "version": "3.7.3"
  }
 },
 "nbformat": 4,
 "nbformat_minor": 2
}
